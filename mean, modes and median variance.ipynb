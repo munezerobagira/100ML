{
 "cells": [
  {
   "cell_type": "code",
   "execution_count": 54,
   "metadata": {},
   "outputs": [],
   "source": [
    "import numpy as np"
   ]
  },
  {
   "cell_type": "code",
   "execution_count": 55,
   "metadata": {},
   "outputs": [
    {
     "data": {
      "text/plain": [
       "array([ 988.87815557, 1055.87323976,  987.16509974, ...,  995.08140757,\n",
       "        984.34002272,  976.40157947])"
      ]
     },
     "execution_count": 55,
     "metadata": {},
     "output_type": "execute_result"
    }
   ],
   "source": [
    "fake_data=np.random.normal(1000, 40, 100000)\n",
    "fake_data"
   ]
  },
  {
   "cell_type": "code",
   "execution_count": 56,
   "metadata": {},
   "outputs": [
    {
     "data": {
      "text/plain": [
       "1000.2344247283204"
      ]
     },
     "execution_count": 56,
     "metadata": {},
     "output_type": "execute_result"
    }
   ],
   "source": [
    "np.median(fake_data)"
   ]
  },
  {
   "cell_type": "code",
   "execution_count": 57,
   "metadata": {},
   "outputs": [
    {
     "data": {
      "text/plain": [
       "1000.2524724471656"
      ]
     },
     "execution_count": 57,
     "metadata": {},
     "output_type": "execute_result"
    }
   ],
   "source": [
    "np.mean(fake_data)"
   ]
  },
  {
   "cell_type": "code",
   "execution_count": 58,
   "metadata": {},
   "outputs": [],
   "source": [
    "import matplotlib.pyplot as plt"
   ]
  },
  {
   "cell_type": "code",
   "execution_count": 59,
   "metadata": {},
   "outputs": [
    {
     "data": {
      "image/png": "[encoded data removed]",
      "text/plain": [
       "<Figure size 432x288 with 1 Axes>"
      ]
     },
     "metadata": {
      "needs_background": "light"
     },
     "output_type": "display_data"
    }
   ],
   "source": [
    "plt.hist(fake_data, 100)\n",
    "plt.show()"
   ]
  },
  {
   "cell_type": "code",
   "execution_count": 60,
   "metadata": {},
   "outputs": [
    {
     "data": {
      "text/plain": [
       "ModeResult(mode=array([818.13196661]), count=array([1]))"
      ]
     },
     "execution_count": 60,
     "metadata": {},
     "output_type": "execute_result"
    }
   ],
   "source": [
    "from scipy import stats\n",
    "stats.mode(fake_data)"
   ]
  },
  {
   "cell_type": "code",
   "execution_count": 61,
   "metadata": {},
   "outputs": [],
   "source": [
    "# For ages"
   ]
  },
  {
   "cell_type": "code",
   "execution_count": 62,
   "metadata": {},
   "outputs": [
    {
     "data": {
      "text/plain": [
       "array([33, 20, 73, 33, 49, 51, 35, 60, 19, 45, 78, 72, 77, 59, 46, 79, 23,\n",
       "       20, 78, 23, 57, 55, 30, 31, 27, 46, 69, 74, 22, 44, 38, 73, 41, 36,\n",
       "       58, 39, 52, 55, 41, 43, 25, 75, 64, 36, 50, 25, 74, 61, 56, 73, 46,\n",
       "       72, 78, 67, 70, 56, 39, 67, 46, 52, 22, 63, 49, 79, 47, 79, 28, 18,\n",
       "       64, 57, 43, 75, 72, 21, 28, 18, 24, 53, 34, 74, 71, 26, 18, 67, 34,\n",
       "       21, 25, 19, 57, 25, 45, 72, 47, 51, 18, 40, 53, 75, 21, 51, 42, 56,\n",
       "       22, 43, 38, 40, 38, 39, 76, 26, 79, 36, 36, 20, 43, 45, 59, 32, 60,\n",
       "       67, 33, 35, 66, 40, 77, 55, 28, 71, 51, 22, 23, 68, 36, 38, 79, 73,\n",
       "       65, 21, 66, 19, 37, 34, 20, 63, 54, 75, 30, 53, 75, 42, 60, 53, 52,\n",
       "       50, 63, 31, 35, 78, 48, 60, 41, 60, 53, 19, 47, 20, 23, 22, 66, 37,\n",
       "       44, 76, 47, 69, 75, 67, 22, 66, 55, 60, 24, 73, 21, 30, 75, 21, 52,\n",
       "       44, 29, 60, 26, 70, 41, 56, 63, 67, 61, 73, 53, 20, 61, 25, 25, 31,\n",
       "       25, 59, 73, 29, 59, 57, 26, 25, 18, 56, 39, 63, 45, 73, 54, 35, 76,\n",
       "       31, 72, 31, 26, 59, 67, 50, 23, 47, 23, 39, 33, 65, 33, 53, 22, 67,\n",
       "       18, 35, 55, 34, 54, 30, 74, 38, 39, 52, 64, 26, 34, 47, 46, 62, 59,\n",
       "       20, 69, 35, 76, 22, 21, 74, 76, 61, 46, 44, 63, 22, 60, 52, 24, 40,\n",
       "       72, 43, 52, 72, 66, 50, 62, 19, 21, 21, 53, 30, 56, 55, 66, 68, 33,\n",
       "       42, 64, 42, 33, 59, 63, 20, 50, 38, 61, 65, 78, 63, 34, 26, 67, 44,\n",
       "       51, 35, 21, 38, 29, 78, 64, 63, 23, 78, 40, 29, 71, 19, 41, 73, 54,\n",
       "       25, 33, 40, 69, 20, 59, 30, 32, 42, 26, 60, 60, 73, 77, 55, 55, 25,\n",
       "       60, 65, 55, 29, 31, 69, 19, 41, 33, 76, 70, 49, 45, 41, 37, 65, 66,\n",
       "       67, 79, 40, 20, 26, 26, 42, 65, 53, 38, 60, 18, 48, 41, 74, 42, 48,\n",
       "       72, 43, 45, 33, 47, 71, 20, 68, 24, 18, 51, 22, 45, 52, 56, 66, 60,\n",
       "       59, 69, 56, 27, 19, 18, 29, 45, 37, 71, 63, 36, 44, 47, 53, 23, 55,\n",
       "       51, 21, 18, 20, 73, 50, 29, 71, 75, 70, 63, 64, 42, 27, 76, 69, 61,\n",
       "       25, 38, 58, 20, 67, 78, 18, 38, 25, 19, 79, 25, 21, 58, 77, 24, 48,\n",
       "       22, 53, 65, 64, 48, 30, 18, 60, 64, 41, 27, 41, 44, 26, 33, 55, 48,\n",
       "       22, 52, 39, 24, 20, 68, 62, 26, 30, 71, 50, 37, 37, 76, 52, 61, 36,\n",
       "       18, 38, 43, 38, 29, 59, 74, 27, 27, 50, 49, 24, 78, 71, 57, 34, 55,\n",
       "       56, 58, 74, 28, 56, 19, 69, 30, 38, 19, 61, 36, 31, 19, 47, 36, 18,\n",
       "       33, 34, 20, 34, 67, 54, 41, 77, 73, 52, 49, 49, 55, 68, 19, 32, 62,\n",
       "       77, 70, 57, 43, 29, 41, 69, 68, 38, 71, 60, 70, 44, 64, 49, 72, 77,\n",
       "       30, 57, 38, 53, 47, 59, 61, 60, 50, 62, 69, 57, 54, 56, 21, 35, 20,\n",
       "       30, 28, 30, 36, 63, 77, 42, 33, 36, 64, 27, 71, 22, 32, 24, 42, 30,\n",
       "       21, 68, 65, 76, 70, 58, 34, 22, 29, 21, 49, 52, 23, 64, 27, 78, 36,\n",
       "       71, 45, 18, 77, 21, 72, 69, 54, 64, 56, 79, 78, 61, 27, 65, 63, 53,\n",
       "       71, 42, 42, 74, 31, 67, 52, 78, 34, 21, 22, 41, 42, 64, 66, 76, 33,\n",
       "       36, 23, 51, 54, 65, 64, 55, 24, 25, 59, 53, 72, 23, 65, 18, 31, 38,\n",
       "       20, 49, 45, 68, 52, 67, 45, 27, 44, 57, 46, 43, 24, 74, 60, 53, 22,\n",
       "       28, 24, 34, 78, 37, 38, 44, 58, 73, 56, 34, 66, 45, 68, 78, 63, 40,\n",
       "       24, 69, 47, 50, 64, 74, 34, 42, 28, 35, 21, 25, 38, 45, 73, 66, 23,\n",
       "       48, 51, 70, 29, 76, 74, 19, 67, 52, 44, 67, 67, 21, 35, 58, 60, 28,\n",
       "       69, 72, 78, 52, 38, 68, 65, 36, 79, 26, 52, 32, 38, 33, 73, 24, 35,\n",
       "       26, 33, 44, 52, 42, 33, 30, 25, 31, 63, 47, 59, 60, 34, 27, 41, 66,\n",
       "       62, 32, 66, 55, 47, 45, 45, 24, 73, 22, 73, 77, 65, 33, 68, 40, 74,\n",
       "       47, 65, 49, 50, 22, 52, 63, 65, 31, 35, 42, 69, 75, 74, 45, 58, 43,\n",
       "       52, 69, 29, 56, 54, 65, 51, 71, 78, 56, 20, 77, 78, 20, 33, 25, 48,\n",
       "       76, 23, 44, 23, 38, 69, 67, 50, 79, 62, 55, 63, 46, 39, 63, 28, 63,\n",
       "       54, 30, 35, 21, 45, 34, 49, 72, 52, 42, 53, 63, 72, 19, 33, 40, 57,\n",
       "       62, 31, 57, 42, 39, 69, 24, 49, 27, 26, 39, 65, 63, 32, 69, 76, 63,\n",
       "       72, 21, 19, 55, 25, 41, 39, 32, 34, 29, 24, 30, 24, 34, 42, 18, 49,\n",
       "       70, 74, 30, 73, 50, 36, 26, 64, 47, 69, 69, 50, 48, 67, 40, 23, 29,\n",
       "       21, 43, 48, 29, 79, 60, 62, 76, 35, 72, 48, 38, 35, 76, 71, 32, 78,\n",
       "       50, 53, 57, 21, 78, 55, 22, 62, 50, 66, 63, 27, 43, 37, 48, 79, 27,\n",
       "       78, 57, 73, 43, 68, 68, 67, 54, 24, 54, 64, 52, 52, 25, 67, 18, 37,\n",
       "       67, 32, 57, 65, 19, 68, 59, 66, 40, 78, 40, 53, 58, 53, 37, 43, 33,\n",
       "       19, 42, 30, 41, 39, 25, 31, 53, 38, 34, 27, 35, 78, 38, 18, 62, 34,\n",
       "       29, 31, 78, 27, 57, 76, 21, 45, 36, 65, 55, 28, 31, 41, 37, 46, 60,\n",
       "       35, 70, 73, 38, 52, 20, 38, 49, 28, 35, 48, 25, 59, 73])"
      ]
     },
     "execution_count": 62,
     "metadata": {},
     "output_type": "execute_result"
    }
   ],
   "source": [
    "fake_age=np.random.randint(18, high=80, size=1000)\n",
    "fake_age"
   ]
  },
  {
   "cell_type": "code",
   "execution_count": 63,
   "metadata": {},
   "outputs": [
    {
     "data": {
      "image/png": "[encoded data removed]",
      "text/plain": [
       "<Figure size 432x288 with 1 Axes>"
      ]
     },
     "metadata": {
      "needs_background": "light"
     },
     "output_type": "display_data"
    }
   ],
   "source": [
    "plt.hist(fake_age, 50)\n",
    "plt.show()"
   ]
  },
  {
   "cell_type": "code",
   "execution_count": 64,
   "metadata": {},
   "outputs": [],
   "source": [
    "#Standard deviation"
   ]
  },
  {
   "cell_type": "code",
   "execution_count": 73,
   "metadata": {},
   "outputs": [],
   "source": [
    "random_data= np.random.normal(200, 200, 1000)"
   ]
  },
  {
   "cell_type": "code",
   "execution_count": 74,
   "metadata": {},
   "outputs": [
    {
     "data": {
      "image/png": "[encoded data removed]",
      "text/plain": [
       "<Figure size 432x288 with 1 Axes>"
      ]
     },
     "metadata": {
      "needs_background": "light"
     },
     "output_type": "display_data"
    }
   ],
   "source": [
    "plt.hist(random_data, 50)\n",
    "plt.show()"
   ]
  },
  {
   "cell_type": "code",
   "execution_count": 75,
   "metadata": {},
   "outputs": [
    {
     "data": {
      "text/plain": [
       "196.32017354180851"
      ]
     },
     "execution_count": 75,
     "metadata": {},
     "output_type": "execute_result"
    }
   ],
   "source": [
    "random_data.std()"
   ]
  },
  {
   "cell_type": "code",
   "execution_count": 76,
   "metadata": {},
   "outputs": [
    {
     "data": {
      "text/plain": [
       "38541.61053948581"
      ]
     },
     "execution_count": 76,
     "metadata": {},
     "output_type": "execute_result"
    }
   ],
   "source": [
    "random_data.var()"
   ]
  },
  {
   "cell_type": "code",
   "execution_count": null,
   "metadata": {},
   "outputs": [],
   "source": []
  }
 ],
 "metadata": {
  "kernelspec": {
   "display_name": "Python 3",
   "language": "python",
   "name": "python3"
  },
  "language_info": {
   "codemirror_mode": {
    "name": "ipython",
    "version": 3
   },
   "file_extension": ".py",
   "mimetype": "text/x-python",
   "name": "python",
   "nbconvert_exporter": "python",
   "pygments_lexer": "ipython3",
   "version": "3.8.6"
  }
 },
 "nbformat": 4,
 "nbformat_minor": 4
}
